{
 "cells": [
  {
   "cell_type": "code",
   "execution_count": 1,
   "metadata": {},
   "outputs": [
    {
     "name": "stdout",
     "output_type": "stream",
     "text": [
      "Requirement already satisfied: findspark in /home/ritika/anaconda3/envs/pyspark1/lib/python3.6/site-packages (1.4.2)\r\n"
     ]
    }
   ],
   "source": [
    "!pip install findspark"
   ]
  },
  {
   "cell_type": "code",
   "execution_count": 2,
   "metadata": {},
   "outputs": [],
   "source": [
    "import os\n",
    "import sys\n",
    "os.environ['SPARK_HOME']=r'/home/ritika/Downloads/spark-3.0.0-bin-hadoop2.7'"
   ]
  },
  {
   "cell_type": "code",
   "execution_count": 3,
   "metadata": {},
   "outputs": [],
   "source": [
    "from __future__ import print_function\n",
    "import findspark\n",
    "findspark.init()\n",
    "findspark.find()\n",
    "import pyspark\n",
    "findspark.find()\n",
    "from pyspark.sql import SparkSession\n",
    "from pyspark.ml.feature import HashingTF\n",
    "from pyspark.ml.feature import Tokenizer\n",
    "from pyspark.ml.feature import IDF"
   ]
  },
  {
   "cell_type": "code",
   "execution_count": 4,
   "metadata": {},
   "outputs": [],
   "source": [
    "if __name__ == \"__main__\":\n",
    "    spark = SparkSession\\\n",
    "        .builder\\\n",
    "        .appName(\"Tf-Idf\")\\\n",
    "        .getOrCreate()"
   ]
  },
  {
   "cell_type": "code",
   "execution_count": 5,
   "metadata": {},
   "outputs": [],
   "source": [
    "documentDF = spark.createDataFrame([\n",
    "        (0,\"Let's see an example of countVectorizer\"),\n",
    "        (1,\"We will use pyspark library\"),\n",
    "        (2,\"countVectorizer is important for NLP\")\n",
    "    ], [\"index\",\"sentence\"])"
   ]
  },
  {
   "cell_type": "code",
   "execution_count": 6,
   "metadata": {},
   "outputs": [
    {
     "name": "stdout",
     "output_type": "stream",
     "text": [
      "+-----+---------------------------------------+\n",
      "|index|sentence                               |\n",
      "+-----+---------------------------------------+\n",
      "|0    |Let's see an example of countVectorizer|\n",
      "|1    |We will use pyspark library            |\n",
      "|2    |countVectorizer is important for NLP   |\n",
      "+-----+---------------------------------------+\n",
      "\n"
     ]
    }
   ],
   "source": [
    "documentDF.show(truncate=False)"
   ]
  },
  {
   "cell_type": "code",
   "execution_count": 7,
   "metadata": {},
   "outputs": [],
   "source": [
    "tokenizer = Tokenizer(inputCol=\"sentence\", outputCol=\"words\")\n"
   ]
  },
  {
   "cell_type": "code",
   "execution_count": 8,
   "metadata": {},
   "outputs": [],
   "source": [
    "wordsDf = tokenizer.transform(documentDF)"
   ]
  },
  {
   "cell_type": "code",
   "execution_count": 9,
   "metadata": {},
   "outputs": [
    {
     "name": "stdout",
     "output_type": "stream",
     "text": [
      "+-----+---------------------------------------+----------------------------------------------+\n",
      "|index|sentence                               |words                                         |\n",
      "+-----+---------------------------------------+----------------------------------------------+\n",
      "|0    |Let's see an example of countVectorizer|[let's, see, an, example, of, countvectorizer]|\n",
      "|1    |We will use pyspark library            |[we, will, use, pyspark, library]             |\n",
      "|2    |countVectorizer is important for NLP   |[countvectorizer, is, important, for, nlp]    |\n",
      "+-----+---------------------------------------+----------------------------------------------+\n",
      "\n"
     ]
    }
   ],
   "source": [
    "wordsDf.show(truncate=False)"
   ]
  },
  {
   "cell_type": "code",
   "execution_count": 10,
   "metadata": {},
   "outputs": [],
   "source": [
    "TF = HashingTF(inputCol=\"words\", outputCol=\"term_frequency\")"
   ]
  },
  {
   "cell_type": "code",
   "execution_count": 11,
   "metadata": {},
   "outputs": [],
   "source": [
    "\n",
    "tf_data = TF.transform(wordsDf)"
   ]
  },
  {
   "cell_type": "code",
   "execution_count": 12,
   "metadata": {},
   "outputs": [
    {
     "name": "stdout",
     "output_type": "stream",
     "text": [
      "+-----+---------------------------------------+----------------------------------------------+---------------------------------------------------------------------------+\n",
      "|index|sentence                               |words                                         |term_frequency                                                             |\n",
      "+-----+---------------------------------------+----------------------------------------------+---------------------------------------------------------------------------+\n",
      "|0    |Let's see an example of countVectorizer|[let's, see, an, example, of, countvectorizer]|(262144,[8538,75750,143202,152540,165615,219087],[1.0,1.0,1.0,1.0,1.0,1.0])|\n",
      "|1    |We will use pyspark library            |[we, will, use, pyspark, library]             |(262144,[89356,98717,133073,156084,248899],[1.0,1.0,1.0,1.0,1.0])          |\n",
      "|2    |countVectorizer is important for NLP   |[countvectorizer, is, important, for, nlp]    |(262144,[15391,76307,106776,106841,152540],[1.0,1.0,1.0,1.0,1.0])          |\n",
      "+-----+---------------------------------------+----------------------------------------------+---------------------------------------------------------------------------+\n",
      "\n"
     ]
    }
   ],
   "source": [
    "tf_data.show(truncate=False)"
   ]
  },
  {
   "cell_type": "code",
   "execution_count": 13,
   "metadata": {},
   "outputs": [],
   "source": [
    "idf = IDF(inputCol=\"term_frequency\", outputCol=\"idf\")"
   ]
  },
  {
   "cell_type": "code",
   "execution_count": 14,
   "metadata": {},
   "outputs": [],
   "source": [
    "idf_Model = idf.fit(tf_data)"
   ]
  },
  {
   "cell_type": "code",
   "execution_count": 15,
   "metadata": {},
   "outputs": [],
   "source": [
    "new_Data = idf_Model.transform(tf_data)"
   ]
  },
  {
   "cell_type": "code",
   "execution_count": 16,
   "metadata": {},
   "outputs": [
    {
     "name": "stdout",
     "output_type": "stream",
     "text": [
      "+-----+----------------------------------------------------------------------------------------------------------------------------------------------------------------------+\n",
      "|index|idf                                                                                                                                                                   |\n",
      "+-----+----------------------------------------------------------------------------------------------------------------------------------------------------------------------+\n",
      "|0    |(262144,[8538,75750,143202,152540,165615,219087],[0.6931471805599453,0.6931471805599453,0.6931471805599453,0.28768207245178085,0.6931471805599453,0.6931471805599453])|\n",
      "|1    |(262144,[89356,98717,133073,156084,248899],[0.6931471805599453,0.6931471805599453,0.6931471805599453,0.6931471805599453,0.6931471805599453])                          |\n",
      "|2    |(262144,[15391,76307,106776,106841,152540],[0.6931471805599453,0.6931471805599453,0.6931471805599453,0.6931471805599453,0.28768207245178085])                         |\n",
      "+-----+----------------------------------------------------------------------------------------------------------------------------------------------------------------------+\n",
      "\n"
     ]
    }
   ],
   "source": [
    "new_Data.select(\"index\", \"idf\").show(truncate=False)"
   ]
  },
  {
   "cell_type": "code",
   "execution_count": 17,
   "metadata": {},
   "outputs": [],
   "source": [
    "spark.stop()"
   ]
  },
  {
   "cell_type": "code",
   "execution_count": null,
   "metadata": {},
   "outputs": [],
   "source": []
  },
  {
   "cell_type": "code",
   "execution_count": null,
   "metadata": {},
   "outputs": [],
   "source": []
  },
  {
   "cell_type": "code",
   "execution_count": null,
   "metadata": {},
   "outputs": [],
   "source": []
  }
 ],
 "metadata": {
  "kernelspec": {
   "display_name": "Python 3",
   "language": "python",
   "name": "python3"
  },
  "language_info": {
   "codemirror_mode": {
    "name": "ipython",
    "version": 3
   },
   "file_extension": ".py",
   "mimetype": "text/x-python",
   "name": "python",
   "nbconvert_exporter": "python",
   "pygments_lexer": "ipython3",
   "version": "3.6.9"
  }
 },
 "nbformat": 4,
 "nbformat_minor": 4
}
